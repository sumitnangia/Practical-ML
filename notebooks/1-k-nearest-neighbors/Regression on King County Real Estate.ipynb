{
 "cells": [
  {
   "cell_type": "markdown",
   "metadata": {},
   "source": [
    "# Hello there! Let's do some KNN on real estate\n",
    "\n",
    "The basics of this is to utilize King County real estate information freely available from the King Count Accessor's office and determine if we can figure out what a house is worth.\n",
    "\n",
    "We do this by utilizing K (the number) neighbors based on distances."
   ]
  },
  {
   "cell_type": "code",
   "execution_count": null,
   "metadata": {},
   "outputs": [],
   "source": [
    "# First step is to load the packages that are important\n",
    "\n",
    "import pandas as pd\n",
    "import numpy as np\n",
    "import random\n",
    "from scipy.spatial import KDTree\n",
    "from sklearn.metrics import mean_absolute_error,  mean_squared_error\n",
    "import sys\n",
    "import matplotlib.pyplot as plt"
   ]
  },
  {
   "cell_type": "code",
   "execution_count": null,
   "metadata": {},
   "outputs": [],
   "source": [
    "#  Load up the king county geocoded data.\n",
    "\n",
    "df = pd.read_csv('../../data/king_county_data_geocoded.csv')\n",
    "df"
   ]
  },
  {
   "cell_type": "code",
   "execution_count": null,
   "metadata": {},
   "outputs": [],
   "source": [
    "df.columns"
   ]
  },
  {
   "cell_type": "code",
   "execution_count": null,
   "metadata": {},
   "outputs": [],
   "source": [
    "from sklearn.neighbors import KNeighborsRegressor\n",
    "\n",
    "def regress(X, y, X_test, y_test, n_neighbors=2, metric='minkowski', p=2):\n",
    "\n",
    "    reg = KNeighborsRegressor(n_neighbors=n_neighbors, metric=metric, p=p)\n",
    "\n",
    "    y_column = 'AppraisedValue'\n",
    "\n",
    "    reg.fit(X, y)\n",
    "\n",
    "    return round(mean_absolute_error(y_test, reg.predict(X_test)), 2)\n",
    "\n",
    "X = df[['lat', 'long', 'SqFtLot']]\n",
    "\n",
    "# This normalizes using MinMaxScaling you can also use others\n",
    "# https://scikit-learn.org/stable/modules/classes.html#module-sklearn.preprocessing\n",
    "# The biggest issue is that the data comes in biased towards Seattle and biased\n",
    "# towards a size of house > 900 sqft.\n",
    "\n",
    "from sklearn.preprocessing import MinMaxScaler\n",
    "scaler = MinMaxScaler()\n",
    "\n",
    "# Note the below line is exactly the same as\n",
    "# X = (X - X.min()) / (X.max() - X.min())\n",
    "X = scaler.fit_transform(X)\n",
    "\n",
    "# Try out some other columns if you want\n",
    "# X = df[df.columns[~df.columns.isin(['AppraisedValue'])]]\n",
    "\n",
    "# This is in dollar amounts\n",
    "y = df['AppraisedValue']\n",
    "\n",
    "# Try out some different n_neighbors or one of the distance metrics\n",
    "# p = 2 for minkowski is a euclidean distance. p=1 is a manhattan distance.\n",
    "# https://scikit-learn.org/stable/modules/generated/sklearn.neighbors.DistanceMetric.html\n",
    "# NOTE THAT n_neighbors=1 would be cheating in this case! so no cheating!\n",
    "regress(X, y, X, y, n_neighbors=2, metric='minkowski', p=2)"
   ]
  },
  {
   "cell_type": "code",
   "execution_count": null,
   "metadata": {},
   "outputs": [],
   "source": [
    "from sklearn.model_selection import train_test_split\n",
    "\n",
    "# What happens when you change the test_size to 0.5 or 0.8 or 0.01?\n",
    "# train(X), predict(X)\n",
    "\n",
    "# X -> X_train, X_test. train(X_train), predict(X_test)\n",
    "\n",
    "# Training, build the model on.\n",
    "# Testing, what we evaluate on.\n",
    "\n",
    "# 80 - 90% training\n",
    "# 10 - 20% Testing.\n",
    "\n",
    "X = df[['lat', 'long', 'SqFtLot']]\n",
    "\n",
    "df\n",
    "\n",
    "X = scaler.fit_transform(X)\n",
    "\n",
    "X_train, X_test, y_train, y_test = train_test_split(X, y, test_size=0.2, random_state=42)\n",
    "\n",
    "z = {'p': [], 'k': [], 'mae': []}\n",
    "\n",
    "for p in range(1,10):\n",
    "    for k in range(1,10):\n",
    "        z['p'].append(p)\n",
    "        z['k'].append(k)\n",
    "        z['mae'].append(regress(X_train, y_train, X_test, y_test, n_neighbors=k, metric='minkowski', p=p))\n",
    "        print(z['mae'][-1])\n",
    "        \n",
    "pd.DataFrame(z)"
   ]
  },
  {
   "cell_type": "code",
   "execution_count": null,
   "metadata": {},
   "outputs": [],
   "source": [
    "# Let's get more clever\n",
    "\n",
    "from sklearn.model_selection import StratifiedKFold\n",
    "\n",
    "# 2 split. 50/50\n",
    "# 3 split. 33/33/33\n",
    "\n",
    "error_data = []\n",
    "for splits in range(2, 11):\n",
    "    skf = StratifiedKFold(n_splits=splits)\n",
    "\n",
    "    for train_index, test_index in skf.split(X, y):\n",
    "        print('.', end='')\n",
    "        X_train, X_test = X[train_index], X[test_index]\n",
    "        y_train, y_test = y[train_index], y[test_index]\n",
    "\n",
    "        error_data.append({'k_folds': splits,\\\n",
    "                           'MAE': regress(X_train, y_train, X_test, y_test, n_neighbors=6, metric='minkowski', p=2)\\\n",
    "                          })\n",
    "pd.DataFrame(error_data).groupby('k_folds').agg({'MAE' : [np.min, np.max]}).plot()"
   ]
  },
  {
   "cell_type": "code",
   "execution_count": null,
   "metadata": {},
   "outputs": [],
   "source": []
  }
 ],
 "metadata": {
  "kernelspec": {
   "display_name": "Python 3",
   "language": "python",
   "name": "python3"
  },
  "language_info": {
   "codemirror_mode": {
    "name": "ipython",
    "version": 3
   },
   "file_extension": ".py",
   "mimetype": "text/x-python",
   "name": "python",
   "nbconvert_exporter": "python",
   "pygments_lexer": "ipython3",
   "version": "3.7.3"
  }
 },
 "nbformat": 4,
 "nbformat_minor": 2
}
