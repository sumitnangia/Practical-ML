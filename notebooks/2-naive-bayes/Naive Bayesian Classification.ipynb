{
 "cells": [
  {
   "cell_type": "code",
   "execution_count": null,
   "metadata": {},
   "outputs": [],
   "source": [
    "# We have a bunch of emails on disk\n",
    "\n",
    "import glob\n",
    "import io\n",
    "import spacy\n",
    "from collections import Counter\n",
    "import pandas as pd\n",
    "import email\n",
    "import re"
   ]
  },
  {
   "cell_type": "code",
   "execution_count": null,
   "metadata": {},
   "outputs": [],
   "source": [
    "eml_df = pd.read_csv('../../data/email-training.csv')\n",
    "\n",
    "eml_df.columns"
   ]
  },
  {
   "cell_type": "code",
   "execution_count": null,
   "metadata": {},
   "outputs": [],
   "source": [
    "from sklearn.naive_bayes import GaussianNB, MultinomialNB, BernoulliNB\n",
    "from sklearn.metrics import classification_report\n",
    "\n",
    "# Normal distribution bell curve: Gaussian\n",
    "# Beroulli: \n",
    "\n",
    "clf = BernoulliNB(alpha=0.0)\n",
    "\n",
    "X = eml_df[eml_df.columns[~eml_df.columns.isin(['SPAM_VALUE'])]].fillna(value=0)\n",
    "y = eml_df['SPAM_VALUE']\n",
    "\n",
    "clf.fit(X, y)\n",
    "\n",
    "# Why is the value what it is? What would you do to fix this?\n",
    "\n",
    "print(classification_report(clf.predict(X), y))"
   ]
  },
  {
   "cell_type": "code",
   "execution_count": null,
   "metadata": {},
   "outputs": [],
   "source": [
    "eml_df.groupby('SPAM_VALUE').size()"
   ]
  },
  {
   "cell_type": "code",
   "execution_count": null,
   "metadata": {},
   "outputs": [],
   "source": [
    "from sklearn.model_selection import train_test_split\n",
    "\n",
    "X_train, X_test, y_train, y_test = train_test_split(X, y, test_size=0.2, random_state=42)\n",
    "\n",
    "clf = BernoulliNB(alpha=0.06)\n",
    "# clf = GaussianNB()\n",
    "\n",
    "clf.fit(X_train, y_train)\n",
    "\n",
    "print(classification_report(clf.predict(X_test), y_test))"
   ]
  },
  {
   "cell_type": "code",
   "execution_count": null,
   "metadata": {},
   "outputs": [],
   "source": [
    "from sklearn.metrics import confusion_matrix\n",
    "\n",
    "confusion_matrix(clf.predict(X_test), y_test)"
   ]
  },
  {
   "cell_type": "markdown",
   "metadata": {},
   "source": [
    "I was able to get ~0.94 for precision on both Ham(1) and Spam(0). That's pretty good! The recall isn't so good actually. A 0.60 recall isn't so great, although we could probably do better on parsing the Emails themselves. Think of some reasons how this result could get better."
   ]
  },
  {
   "cell_type": "markdown",
   "metadata": {},
   "source": [
    "# BONUS word2vec\n",
    "\n",
    "Word2Vec is an amazing model to fit natural language to a vectorized representation. Matter of fact it's called representation learning and basically will take text and output something that we can do math on!\n",
    "\n",
    "Below I've done the heavy lifting of giving you a word2vec file to train on. Try out GaussianNB and see what happens. Is it any better or worse?"
   ]
  },
  {
   "cell_type": "code",
   "execution_count": null,
   "metadata": {},
   "outputs": [],
   "source": [
    "eml_df = pd.read_csv('../../data/emails-word2vec.csv')\n",
    "\n",
    "eml_df.head()"
   ]
  },
  {
   "cell_type": "code",
   "execution_count": null,
   "metadata": {},
   "outputs": [],
   "source": [
    "from sklearn.svm import LinearSVC\n",
    "from sklearn.metrics import classification_report\n",
    "\n",
    "clf = LinearSVC(C=50)\n",
    "\n",
    "X = eml_df[eml_df.columns[~eml_df.columns.isin(['SPAM_VALUE'])]].fillna(value=0)\n",
    "y = eml_df['SPAM_VALUE']\n",
    "\n",
    "X_train, X_test, y_train, y_test = train_test_split(X, y, test_size=0.2, random_state=42)\n",
    "\n",
    "clf.fit(X_train, y_train)\n",
    "\n",
    "print(classification_report(clf.predict(X_test), y_test))"
   ]
  }
 ],
 "metadata": {
  "kernelspec": {
   "display_name": "Python 3",
   "language": "python",
   "name": "python3"
  },
  "language_info": {
   "codemirror_mode": {
    "name": "ipython",
    "version": 3
   },
   "file_extension": ".py",
   "mimetype": "text/x-python",
   "name": "python",
   "nbconvert_exporter": "python",
   "pygments_lexer": "ipython3",
   "version": "3.7.3"
  }
 },
 "nbformat": 4,
 "nbformat_minor": 2
}
